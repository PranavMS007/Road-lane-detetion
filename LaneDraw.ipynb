{
 "cells": [
  {
   "cell_type": "markdown",
   "metadata": {},
   "source": [
    "# Road Lane Detection  - MSc Research Project\n"
   ]
  },
  {
   "cell_type": "markdown",
   "metadata": {},
   "source": [
    "***\n",
    "* Name       :- `Pranav Madathil Sasi`\n",
    "***\n",
    "* Student Id :- `202117885`\n",
    "***\n",
    "* Module     :- `MSc Research Project (771764_A21_T3A)`\n",
    "***\n",
    "* Supervisor :- `Oseikhuemen Davis O Ojie`\n",
    "***\n",
    "* Course     :- `Msc Artificial Intelligence & Data Science`\n",
    "***"
   ]
  },
  {
   "cell_type": "code",
   "execution_count": null,
   "metadata": {
    "colab": {
     "base_uri": "https://localhost:8080/"
    },
    "id": "MrDMrVkQH8Rh",
    "outputId": "8d9c2ea2-05cd-4a4a-9ae3-2a65db6e31ba"
   },
   "outputs": [
    {
     "name": "stdout",
     "output_type": "stream",
     "text": [
      "Found existing installation: scipy 1.1.0\n",
      "Uninstalling scipy-1.1.0:\n",
      "  Would remove:\n",
      "    /usr/local/lib/python3.7/dist-packages/scipy-1.1.0.dist-info/*\n",
      "    /usr/local/lib/python3.7/dist-packages/scipy/*\n",
      "Proceed (y/n)? y\n",
      "  Successfully uninstalled scipy-1.1.0\n"
     ]
    }
   ],
   "source": [
    "#installing necessary libraries\n",
    "!pip install imageio-ffmpeg\n",
    "!pip install imageio\n",
    "!pip uninstall imageio\n",
    "!pip install scipy==1.1.0\n",
    "!pip install imageio==2.4.1\n",
    "!pip install moviepy"
   ]
  },
  {
   "cell_type": "code",
   "execution_count": null,
   "metadata": {
    "colab": {
     "base_uri": "https://localhost:8080/"
    },
    "id": "FA_meYVSIhDk",
    "outputId": "f14198ee-3183-4a7b-ecd7-82134599df9d"
   },
   "outputs": [
    {
     "name": "stdout",
     "output_type": "stream",
     "text": [
      "Looking in indexes: https://pypi.org/simple, https://us-python.pkg.dev/colab-wheels/public/simple/\n",
      "Requirement already satisfied: tensorflow in /usr/local/lib/python3.7/dist-packages (2.8.2+zzzcolab20220719082949)\n",
      "Requirement already satisfied: protobuf<3.20,>=3.9.2 in /usr/local/lib/python3.7/dist-packages (from tensorflow) (3.17.3)\n",
      "Requirement already satisfied: keras<2.9,>=2.8.0rc0 in /usr/local/lib/python3.7/dist-packages (from tensorflow) (2.8.0)\n",
      "Requirement already satisfied: tensorboard<2.9,>=2.8 in /usr/local/lib/python3.7/dist-packages (from tensorflow) (2.8.0)\n",
      "Requirement already satisfied: tensorflow-estimator<2.9,>=2.8 in /usr/local/lib/python3.7/dist-packages (from tensorflow) (2.8.0)\n",
      "Requirement already satisfied: six>=1.12.0 in /usr/local/lib/python3.7/dist-packages (from tensorflow) (1.15.0)\n",
      "Requirement already satisfied: grpcio<2.0,>=1.24.3 in /usr/local/lib/python3.7/dist-packages (from tensorflow) (1.47.0)\n",
      "Requirement already satisfied: absl-py>=0.4.0 in /usr/local/lib/python3.7/dist-packages (from tensorflow) (1.2.0)\n",
      "Requirement already satisfied: astunparse>=1.6.0 in /usr/local/lib/python3.7/dist-packages (from tensorflow) (1.6.3)\n",
      "Requirement already satisfied: google-pasta>=0.1.1 in /usr/local/lib/python3.7/dist-packages (from tensorflow) (0.2.0)\n",
      "Requirement already satisfied: typing-extensions>=3.6.6 in /usr/local/lib/python3.7/dist-packages (from tensorflow) (4.1.1)\n",
      "Requirement already satisfied: opt-einsum>=2.3.2 in /usr/local/lib/python3.7/dist-packages (from tensorflow) (3.3.0)\n",
      "Requirement already satisfied: h5py>=2.9.0 in /usr/local/lib/python3.7/dist-packages (from tensorflow) (3.1.0)\n",
      "Requirement already satisfied: keras-preprocessing>=1.1.1 in /usr/local/lib/python3.7/dist-packages (from tensorflow) (1.1.2)\n",
      "Requirement already satisfied: libclang>=9.0.1 in /usr/local/lib/python3.7/dist-packages (from tensorflow) (14.0.1)\n",
      "Requirement already satisfied: setuptools in /usr/local/lib/python3.7/dist-packages (from tensorflow) (57.4.0)\n",
      "Requirement already satisfied: flatbuffers>=1.12 in /usr/local/lib/python3.7/dist-packages (from tensorflow) (2.0)\n",
      "Requirement already satisfied: tensorflow-io-gcs-filesystem>=0.23.1 in /usr/local/lib/python3.7/dist-packages (from tensorflow) (0.26.0)\n",
      "Requirement already satisfied: numpy>=1.20 in /usr/local/lib/python3.7/dist-packages (from tensorflow) (1.21.6)\n",
      "Requirement already satisfied: termcolor>=1.1.0 in /usr/local/lib/python3.7/dist-packages (from tensorflow) (1.1.0)\n",
      "Requirement already satisfied: wrapt>=1.11.0 in /usr/local/lib/python3.7/dist-packages (from tensorflow) (1.14.1)\n",
      "Requirement already satisfied: gast>=0.2.1 in /usr/local/lib/python3.7/dist-packages (from tensorflow) (0.5.3)\n",
      "Requirement already satisfied: wheel<1.0,>=0.23.0 in /usr/local/lib/python3.7/dist-packages (from astunparse>=1.6.0->tensorflow) (0.37.1)\n",
      "Requirement already satisfied: cached-property in /usr/local/lib/python3.7/dist-packages (from h5py>=2.9.0->tensorflow) (1.5.2)\n",
      "Requirement already satisfied: google-auth<3,>=1.6.3 in /usr/local/lib/python3.7/dist-packages (from tensorboard<2.9,>=2.8->tensorflow) (1.35.0)\n",
      "Requirement already satisfied: requests<3,>=2.21.0 in /usr/local/lib/python3.7/dist-packages (from tensorboard<2.9,>=2.8->tensorflow) (2.23.0)\n",
      "Requirement already satisfied: markdown>=2.6.8 in /usr/local/lib/python3.7/dist-packages (from tensorboard<2.9,>=2.8->tensorflow) (3.4.1)\n",
      "Requirement already satisfied: google-auth-oauthlib<0.5,>=0.4.1 in /usr/local/lib/python3.7/dist-packages (from tensorboard<2.9,>=2.8->tensorflow) (0.4.6)\n",
      "Requirement already satisfied: werkzeug>=0.11.15 in /usr/local/lib/python3.7/dist-packages (from tensorboard<2.9,>=2.8->tensorflow) (1.0.1)\n",
      "Requirement already satisfied: tensorboard-plugin-wit>=1.6.0 in /usr/local/lib/python3.7/dist-packages (from tensorboard<2.9,>=2.8->tensorflow) (1.8.1)\n",
      "Requirement already satisfied: tensorboard-data-server<0.7.0,>=0.6.0 in /usr/local/lib/python3.7/dist-packages (from tensorboard<2.9,>=2.8->tensorflow) (0.6.1)\n",
      "Requirement already satisfied: cachetools<5.0,>=2.0.0 in /usr/local/lib/python3.7/dist-packages (from google-auth<3,>=1.6.3->tensorboard<2.9,>=2.8->tensorflow) (4.2.4)\n",
      "Requirement already satisfied: rsa<5,>=3.1.4 in /usr/local/lib/python3.7/dist-packages (from google-auth<3,>=1.6.3->tensorboard<2.9,>=2.8->tensorflow) (4.8)\n",
      "Requirement already satisfied: pyasn1-modules>=0.2.1 in /usr/local/lib/python3.7/dist-packages (from google-auth<3,>=1.6.3->tensorboard<2.9,>=2.8->tensorflow) (0.2.8)\n",
      "Requirement already satisfied: requests-oauthlib>=0.7.0 in /usr/local/lib/python3.7/dist-packages (from google-auth-oauthlib<0.5,>=0.4.1->tensorboard<2.9,>=2.8->tensorflow) (1.3.1)\n",
      "Requirement already satisfied: importlib-metadata>=4.4 in /usr/local/lib/python3.7/dist-packages (from markdown>=2.6.8->tensorboard<2.9,>=2.8->tensorflow) (4.12.0)\n",
      "Requirement already satisfied: zipp>=0.5 in /usr/local/lib/python3.7/dist-packages (from importlib-metadata>=4.4->markdown>=2.6.8->tensorboard<2.9,>=2.8->tensorflow) (3.8.1)\n",
      "Requirement already satisfied: pyasn1<0.5.0,>=0.4.6 in /usr/local/lib/python3.7/dist-packages (from pyasn1-modules>=0.2.1->google-auth<3,>=1.6.3->tensorboard<2.9,>=2.8->tensorflow) (0.4.8)\n",
      "Requirement already satisfied: urllib3!=1.25.0,!=1.25.1,<1.26,>=1.21.1 in /usr/local/lib/python3.7/dist-packages (from requests<3,>=2.21.0->tensorboard<2.9,>=2.8->tensorflow) (1.24.3)\n",
      "Requirement already satisfied: certifi>=2017.4.17 in /usr/local/lib/python3.7/dist-packages (from requests<3,>=2.21.0->tensorboard<2.9,>=2.8->tensorflow) (2022.6.15)\n",
      "Requirement already satisfied: idna<3,>=2.5 in /usr/local/lib/python3.7/dist-packages (from requests<3,>=2.21.0->tensorboard<2.9,>=2.8->tensorflow) (2.10)\n",
      "Requirement already satisfied: chardet<4,>=3.0.2 in /usr/local/lib/python3.7/dist-packages (from requests<3,>=2.21.0->tensorboard<2.9,>=2.8->tensorflow) (3.0.4)\n",
      "Requirement already satisfied: oauthlib>=3.0.0 in /usr/local/lib/python3.7/dist-packages (from requests-oauthlib>=0.7.0->google-auth-oauthlib<0.5,>=0.4.1->tensorboard<2.9,>=2.8->tensorflow) (3.2.0)\n"
     ]
    }
   ],
   "source": [
    "!pip install tensorflow"
   ]
  },
  {
   "cell_type": "code",
   "execution_count": null,
   "metadata": {
    "id": "SHMWKRglG7Mz"
   },
   "outputs": [],
   "source": [
    "# Import neccessary libraries\n",
    "import scipy\n",
    "from scipy import stats\n",
    "import numpy as np\n",
    "import cv2\n",
    "from scipy.misc import imresize\n",
    "from moviepy.editor import VideoFileClip\n",
    "from IPython.display import HTML\n",
    "from scipy import stats\n",
    "import scipy\n",
    "from keras.models import load_model\n"
   ]
  },
  {
   "cell_type": "code",
   "execution_count": null,
   "metadata": {
    "colab": {
     "base_uri": "https://localhost:8080/"
    },
    "id": "918oWuj7JYRo",
    "outputId": "e5f89563-76d3-4601-c376-7b25b541a149"
   },
   "outputs": [
    {
     "name": "stdout",
     "output_type": "stream",
     "text": [
      "Mounted at /content/gdrive\n"
     ]
    }
   ],
   "source": [
    "#mounting the google drive into colab\n",
    "from google.colab import drive \n",
    "drive.mount('/content/gdrive')"
   ]
  },
  {
   "cell_type": "code",
   "execution_count": null,
   "metadata": {
    "id": "4gg5DksWIyvg"
   },
   "outputs": [],
   "source": [
    "# Creating Class lanes\n",
    "class Lanes():\n",
    "    def __init__(self):\n",
    "        self.recentFitArray = []\n",
    "        self.avg_fit = []\n",
    "\n",
    "\"\"\" \n",
    "@desc     Funtion to draw the lane overlay in each images\n",
    "@param    image   : each frame of video as a image\n",
    "@return   image with lane overlay\n",
    "\"\"\"\n",
    "def DrawRoadLanes(image):\n",
    "    \n",
    "    # Resizing the image into 80x160 to feed the model to detect the lane\n",
    "    resizedImage = imresize(image, (80, 160, 3))\n",
    "    resizedImage = np.array(resizedImage)\n",
    "    resizedImage = resizedImage[None,:,:,:]\n",
    "\n",
    "    # predict the lane by model in resized image\n",
    "    predictionArray = model.predict(resizedImage)[0] * 255\n",
    "    \n",
    "    # Add lane prediction average array\n",
    "    lanes.recentFitArray.append(predictionArray)\n",
    "    # Checking the last 5 for averaging\n",
    "    if len(lanes.recentFitArray) > 5:\n",
    "        lanes.recentFitArray = lanes.recentFitArray[1:]\n",
    "\n",
    "    # Find the average value of detection\n",
    "    lanes.avg_fit = np.mean(np.array([i for i in lanes.recentFitArray]), axis = 0)\n",
    "\n",
    "    # Creating zeroed Red and Blue color dimensions with Green \n",
    "    zeroedArray = np.zeros_like(lanes.avg_fit).astype(np.uint8)\n",
    "    laneArrayImage = np.dstack((zeroedArray, lanes.avg_fit, zeroedArray))\n",
    "\n",
    "    # Resizing the output image after prediction to match the original image size.\n",
    "    laneImage = imresize(laneArrayImage, (720, 1280, 3))\n",
    "\n",
    "    # Merging lane drawned with original image\n",
    "    result = cv2.addWeighted(image, 1, laneImage, 1, 0)\n",
    "    \n",
    "    # Return final image with lane\n",
    "    return result"
   ]
  },
  {
   "cell_type": "code",
   "execution_count": null,
   "metadata": {
    "colab": {
     "base_uri": "https://localhost:8080/"
    },
    "id": "tmSvtc82I-aB",
    "outputId": "7a3eec7a-7afb-471b-824a-c2914ab175ca"
   },
   "outputs": [
    {
     "name": "stderr",
     "output_type": "stream",
     "text": [
      "WARNING:py.warnings:/usr/local/lib/python3.7/dist-packages/ipykernel_launcher.py:11: DeprecationWarning:     `imresize` is deprecated!\n",
      "    `imresize` is deprecated in SciPy 1.0.0, and will be removed in 1.2.0.\n",
      "    Use ``skimage.transform.resize`` instead.\n",
      "  # This is added back by InteractiveShellApp.init_path()\n",
      "\n",
      "WARNING:py.warnings:/usr/local/lib/python3.7/dist-packages/ipykernel_launcher.py:32: DeprecationWarning:     `imresize` is deprecated!\n",
      "    `imresize` is deprecated in SciPy 1.0.0, and will be removed in 1.2.0.\n",
      "    Use ``skimage.transform.resize`` instead.\n",
      "\n"
     ]
    },
    {
     "name": "stdout",
     "output_type": "stream",
     "text": [
      "[MoviePy] >>>> Building video gdrive/My Drive/python/Lanes/proj_reg_vid.mp4\n",
      "[MoviePy] Writing video gdrive/My Drive/python/Lanes/proj_reg_vid.mp4\n"
     ]
    },
    {
     "name": "stderr",
     "output_type": "stream",
     "text": [
      "100%|█████████▉| 1260/1261 [03:26<00:00,  6.10it/s]\n"
     ]
    },
    {
     "name": "stdout",
     "output_type": "stream",
     "text": [
      "[MoviePy] Done.\n",
      "[MoviePy] >>>> Video ready: gdrive/My Drive/python/Lanes/proj_reg_vid.mp4 \n",
      "\n"
     ]
    }
   ],
   "source": [
    "\n",
    "if __name__ == '__main__':\n",
    "    \n",
    "    # Load Keras model\n",
    "    model = load_model('gdrive/My Drive/python/Lanes/Lane_Detection_CNN_model.h5')\n",
    "    \n",
    "    # Creating object for lane class\n",
    "    lanes = Lanes()\n",
    "    \n",
    "    # Output video file name and path\n",
    "    ouputVideoNamePath = 'gdrive/My Drive/python/Lanes/proj_reg_vid.mp4'\n",
    "    \n",
    "    # Creating videos clips of input video\n",
    "    videoFrameClip = VideoFileClip(\"gdrive/My Drive/python/Lanes/project_video.mp4\")\n",
    "    \n",
    "    # Creating lane video clip by calling DrawRoadLanes for each frames of video\n",
    "    laneVideoClip = videoFrameClip.fl_image(DrawRoadLanes)\n",
    "    \n",
    "    # Wrting final detected video in to output videos\n",
    "    laneVideoClip.write_videofile(ouputVideoNamePath, audio=False)"
   ]
  },
  {
   "cell_type": "code",
   "execution_count": null,
   "metadata": {
    "colab": {
     "base_uri": "https://localhost:8080/"
    },
    "id": "kWuJoClIJuv3",
    "outputId": "7e21a622-7249-404d-d44b-34579ee3e55b"
   },
   "outputs": [
    {
     "name": "stderr",
     "output_type": "stream",
     "text": [
      "WARNING:py.warnings:/usr/local/lib/python3.7/dist-packages/ipykernel_launcher.py:11: DeprecationWarning:     `imresize` is deprecated!\n",
      "    `imresize` is deprecated in SciPy 1.0.0, and will be removed in 1.2.0.\n",
      "    Use ``skimage.transform.resize`` instead.\n",
      "  # This is added back by InteractiveShellApp.init_path()\n",
      "\n",
      "WARNING:py.warnings:/usr/local/lib/python3.7/dist-packages/ipykernel_launcher.py:32: DeprecationWarning:     `imresize` is deprecated!\n",
      "    `imresize` is deprecated in SciPy 1.0.0, and will be removed in 1.2.0.\n",
      "    Use ``skimage.transform.resize`` instead.\n",
      "\n"
     ]
    },
    {
     "name": "stdout",
     "output_type": "stream",
     "text": [
      "[MoviePy] >>>> Building video gdrive/My Drive/python/Lanes/Lane-1_reg_vid.mp4\n",
      "[MoviePy] Writing video gdrive/My Drive/python/Lanes/Lane-1_reg_vid.mp4\n"
     ]
    },
    {
     "name": "stderr",
     "output_type": "stream",
     "text": [
      "100%|█████████▉| 891/892 [02:18<00:00,  6.21it/s]WARNING:py.warnings:/usr/local/lib/python3.7/dist-packages/moviepy/video/io/ffmpeg_reader.py:130: UserWarning: Warning: in file gdrive/My Drive/python/Lanes/Lane-1.mp4, 2764800 bytes wanted but 0 bytes read,at frame 891/892, at time 29.73/29.74 sec. Using the last valid frame instead.\n",
      "  UserWarning)\n",
      "\n",
      "100%|██████████| 892/892 [02:18<00:00,  6.45it/s]\n"
     ]
    },
    {
     "name": "stdout",
     "output_type": "stream",
     "text": [
      "[MoviePy] Done.\n",
      "[MoviePy] >>>> Video ready: gdrive/My Drive/python/Lanes/Lane-1_reg_vid.mp4 \n",
      "\n"
     ]
    }
   ],
   "source": [
    "\n",
    "if __name__ == '__main__':\n",
    "    # Load Keras model\n",
    "    model = load_model('gdrive/My Drive/python/Lanes/Lane_Detection_CNN_model.h5')\n",
    "    \n",
    "    # Creating object for lane class\n",
    "    lanes = Lanes()\n",
    "    \n",
    "    # Output video file name and path\n",
    "    vid_output = 'gdrive/My Drive/python/Lanes/Lane-1_reg_vid.mp4'\n",
    "    \n",
    "    # Creating videos clips of input video\n",
    "    clip1 = VideoFileClip(\"gdrive/My Drive/python/Lanes/Lane-1.mp4\")\n",
    "    \n",
    "    # Creating lane video clip by calling DrawRoadLanes for each frames of video\n",
    "    vid_clip = clip1.fl_image(road_lines)\n",
    "    \n",
    "    # Wrting final detected video in to output videos\n",
    "    vid_clip.write_videofile(vid_output, audio=False)"
   ]
  },
  {
   "cell_type": "code",
   "execution_count": null,
   "metadata": {
    "colab": {
     "base_uri": "https://localhost:8080/"
    },
    "id": "I1PRMzoQMwg8",
    "outputId": "885eda0b-6fe1-48bf-e755-c141b2d5f1e0"
   },
   "outputs": [
    {
     "name": "stderr",
     "output_type": "stream",
     "text": [
      "WARNING:py.warnings:/usr/local/lib/python3.7/dist-packages/ipykernel_launcher.py:11: DeprecationWarning:     `imresize` is deprecated!\n",
      "    `imresize` is deprecated in SciPy 1.0.0, and will be removed in 1.2.0.\n",
      "    Use ``skimage.transform.resize`` instead.\n",
      "  # This is added back by InteractiveShellApp.init_path()\n",
      "\n",
      "WARNING:py.warnings:/usr/local/lib/python3.7/dist-packages/ipykernel_launcher.py:32: DeprecationWarning:     `imresize` is deprecated!\n",
      "    `imresize` is deprecated in SciPy 1.0.0, and will be removed in 1.2.0.\n",
      "    Use ``skimage.transform.resize`` instead.\n",
      "\n"
     ]
    },
    {
     "name": "stdout",
     "output_type": "stream",
     "text": [
      "[MoviePy] >>>> Building video gdrive/My Drive/python/Lanes/test2_reg_vid.mp4\n",
      "[MoviePy] Writing video gdrive/My Drive/python/Lanes/test2_reg_vid.mp4\n"
     ]
    },
    {
     "name": "stderr",
     "output_type": "stream",
     "text": [
      "100%|█████████▉| 1295/1298 [03:04<00:00,  6.87it/s]WARNING:py.warnings:/usr/local/lib/python3.7/dist-packages/moviepy/video/io/ffmpeg_reader.py:130: UserWarning: Warning: in file gdrive/My Drive/python/Lanes/test2.mp4, 2764800 bytes wanted but 0 bytes read,at frame 1295/1298, at time 25.90/25.94 sec. Using the last valid frame instead.\n",
      "  UserWarning)\n",
      "\n",
      "100%|█████████▉| 1296/1298 [03:04<00:00,  6.95it/s]WARNING:py.warnings:/usr/local/lib/python3.7/dist-packages/moviepy/video/io/ffmpeg_reader.py:130: UserWarning: Warning: in file gdrive/My Drive/python/Lanes/test2.mp4, 2764800 bytes wanted but 0 bytes read,at frame 1296/1298, at time 25.92/25.94 sec. Using the last valid frame instead.\n",
      "  UserWarning)\n",
      "\n",
      "100%|█████████▉| 1297/1298 [03:04<00:00,  7.03it/s]\n"
     ]
    },
    {
     "name": "stdout",
     "output_type": "stream",
     "text": [
      "[MoviePy] Done.\n",
      "[MoviePy] >>>> Video ready: gdrive/My Drive/python/Lanes/test2_reg_vid.mp4 \n",
      "\n"
     ]
    }
   ],
   "source": [
    "\n",
    "if __name__ == '__main__':\n",
    "    # Load Keras model\n",
    "    model = load_model('gdrive/My Drive/python/Lanes/Lane_Detection_CNN_model.h5')\n",
    "    \n",
    "    # Creating object for lane class\n",
    "    lanes = Lanes()\n",
    "    \n",
    "    # Output video file name and path\n",
    "    vid_output = 'gdrive/My Drive/python/Lanes/test2_reg_vid.mp4'\n",
    "    \n",
    "    # Creating videos clips of input video\n",
    "    clip1 = VideoFileClip(\"gdrive/My Drive/python/Lanes/test2.mp4\")\n",
    "    \n",
    "    # Creating lane video clip by calling DrawRoadLanes for each frames of video\n",
    "    vid_clip = clip1.fl_image(road_lines)\n",
    "    \n",
    "    # Wrting final detected video in to output videos\n",
    "    vid_clip.write_videofile(vid_output, audio=False)"
   ]
  },
  {
   "cell_type": "code",
   "execution_count": null,
   "metadata": {
    "colab": {
     "base_uri": "https://localhost:8080/"
    },
    "id": "4JW2t8gEit0o",
    "outputId": "b41a0fda-2662-4b7a-a785-a57f6fb90068"
   },
   "outputs": [
    {
     "name": "stderr",
     "output_type": "stream",
     "text": [
      "WARNING:py.warnings:/usr/local/lib/python3.7/dist-packages/ipykernel_launcher.py:8: DeprecationWarning:     `imresize` is deprecated!\n",
      "    `imresize` is deprecated in SciPy 1.0.0, and will be removed in 1.2.0.\n",
      "    Use ``skimage.transform.resize`` instead.\n",
      "  \n",
      "\n",
      "WARNING:py.warnings:/usr/local/lib/python3.7/dist-packages/ipykernel_launcher.py:23: DeprecationWarning:     `imresize` is deprecated!\n",
      "    `imresize` is deprecated in SciPy 1.0.0, and will be removed in 1.2.0.\n",
      "    Use ``skimage.transform.resize`` instead.\n",
      "\n"
     ]
    },
    {
     "name": "stdout",
     "output_type": "stream",
     "text": [
      "[MoviePy] >>>> Building video gdrive/My Drive/python/Lanes/mobileLaneOut.mp4\n",
      "[MoviePy] Writing video gdrive/My Drive/python/Lanes/mobileLaneOut.mp4\n"
     ]
    },
    {
     "name": "stderr",
     "output_type": "stream",
     "text": [
      "100%|█████████▉| 575/576 [01:27<00:00,  6.03it/s]WARNING:py.warnings:/usr/local/lib/python3.7/dist-packages/moviepy/video/io/ffmpeg_reader.py:130: UserWarning: Warning: in file gdrive/My Drive/python/Lanes/mobileLane.mp4, 2764800 bytes wanted but 0 bytes read,at frame 575/576, at time 19.17/19.18 sec. Using the last valid frame instead.\n",
      "  UserWarning)\n",
      "\n",
      "100%|██████████| 576/576 [01:27<00:00,  6.55it/s]\n"
     ]
    },
    {
     "name": "stdout",
     "output_type": "stream",
     "text": [
      "[MoviePy] Done.\n",
      "[MoviePy] >>>> Video ready: gdrive/My Drive/python/Lanes/mobileLaneOut.mp4 \n",
      "\n"
     ]
    }
   ],
   "source": [
    "from moviepy.editor import VideoFileClip\n",
    "\n",
    "if __name__ == '__main__':\n",
    "    # Load Keras model\n",
    "    model = load_model('gdrive/My Drive/python/Lanes/Lane_Detection_CNN_model.h5')\n",
    "    \n",
    "    # Creating object for lane class\n",
    "    lanes = Lanes()\n",
    "    \n",
    "    # Output video file name and path\n",
    "    vid_output = 'gdrive/My Drive/python/Lanes/mobileLaneOut.mp4'\n",
    "    \n",
    "    # Creating videos clips of input video\n",
    "    clip1 = VideoFileClip(\"gdrive/My Drive/python/Lanes/mobileLane.mp4\")\n",
    "    \n",
    "    # Creating lane video clip by calling DrawRoadLanes for each frames of video\n",
    "    vid_clip = clip1.fl_image(road_lines)\n",
    "    \n",
    "    # Wrting final detected video in to output videos\n",
    "    vid_clip.write_videofile(vid_output, audio=False)"
   ]
  },
  {
   "cell_type": "code",
   "execution_count": 9,
   "metadata": {
    "colab": {
     "base_uri": "https://localhost:8080/"
    },
    "id": "iRwadt2SLdKI",
    "outputId": "7450037f-cdeb-4e73-f016-2d6443ecd1df"
   },
   "outputs": [
    {
     "name": "stderr",
     "output_type": "stream",
     "text": [
      "WARNING:py.warnings:/usr/local/lib/python3.7/dist-packages/ipykernel_launcher.py:8: DeprecationWarning:     `imresize` is deprecated!\n",
      "    `imresize` is deprecated in SciPy 1.0.0, and will be removed in 1.2.0.\n",
      "    Use ``skimage.transform.resize`` instead.\n",
      "  \n",
      "\n",
      "WARNING:py.warnings:/usr/local/lib/python3.7/dist-packages/ipykernel_launcher.py:23: DeprecationWarning:     `imresize` is deprecated!\n",
      "    `imresize` is deprecated in SciPy 1.0.0, and will be removed in 1.2.0.\n",
      "    Use ``skimage.transform.resize`` instead.\n",
      "\n"
     ]
    },
    {
     "name": "stdout",
     "output_type": "stream",
     "text": [
      "[MoviePy] >>>> Building video gdrive/My Drive/python/Lanes/harder_challenge_videoOut.mp4\n",
      "[MoviePy] Writing video gdrive/My Drive/python/Lanes/harder_challenge_videoOut.mp4\n"
     ]
    },
    {
     "name": "stderr",
     "output_type": "stream",
     "text": [
      "100%|█████████▉| 1199/1200 [04:04<00:00,  4.89it/s]\n"
     ]
    },
    {
     "name": "stdout",
     "output_type": "stream",
     "text": [
      "[MoviePy] Done.\n",
      "[MoviePy] >>>> Video ready: gdrive/My Drive/python/Lanes/harder_challenge_videoOut.mp4 \n",
      "\n"
     ]
    }
   ],
   "source": [
    "\n",
    "if __name__ == '__main__':\n",
    "    # Load Keras model\n",
    "    model = load_model('gdrive/My Drive/python/Lanes/Lane_Detection_CNN_model.h5')\n",
    "    \n",
    "    # Creating object for lane class\n",
    "    lanes = Lanes()\n",
    "    \n",
    "    # Output video file name and path\n",
    "    vid_output = 'gdrive/My Drive/python/Lanes/harder_challenge_videoOut.mp4'\n",
    "    \n",
    "    # Creating videos clips of input video\n",
    "    clip1 = VideoFileClip(\"gdrive/My Drive/python/Lanes/harder_challenge_video.mp4\")\n",
    "    \n",
    "    # Creating lane video clip by calling DrawRoadLanes for each frames of video\n",
    "    vid_clip = clip1.fl_image(road_lines)\n",
    "    \n",
    "    # Wrting final detected video in to output videos\n",
    "    vid_clip.write_videofile(vid_output, audio=False)"
   ]
  }
 ],
 "metadata": {
  "colab": {
   "collapsed_sections": [],
   "name": "lane.ipynb",
   "provenance": []
  },
  "kernelspec": {
   "display_name": "Python 3 (ipykernel)",
   "language": "python",
   "name": "python3"
  },
  "language_info": {
   "codemirror_mode": {
    "name": "ipython",
    "version": 3
   },
   "file_extension": ".py",
   "mimetype": "text/x-python",
   "name": "python",
   "nbconvert_exporter": "python",
   "pygments_lexer": "ipython3",
   "version": "3.10.5"
  }
 },
 "nbformat": 4,
 "nbformat_minor": 1
}
